{
 "cells": [
  {
   "cell_type": "code",
   "execution_count": null,
   "id": "ca93ba3b-b676-4257-bfc0-b770a6a3b5df",
   "metadata": {},
   "outputs": [],
   "source": [
    "import matplotlib.pyplot as plt\n",
    "import torch\n",
    "\n",
    "from torch.nn import ModuleList, BCEWithLogitsLoss\n",
    "from torch.optim import Adam\n",
    "\n",
    "from data import BinaryColoredMNIST\n",
    "\n",
    "from models import Encoder, Classifier, Adversary"
   ]
  },
  {
   "cell_type": "code",
   "execution_count": null,
   "id": "7365e255",
   "metadata": {},
   "outputs": [],
   "source": [
    "if torch.cuda.is_available():\n",
    "    device = torch.device(\"cuda\")\n",
    "elif torch.backends.mps.is_available():\n",
    "    device = torch.device(\"mps\")\n",
    "else:\n",
    "    device = torch.device(\"cpu\")\n",
    "\n",
    "device = torch.device(\"cpu\")\n",
    "print(device)"
   ]
  },
  {
   "cell_type": "markdown",
   "id": "2080379b",
   "metadata": {},
   "source": [
    "### Data Modification"
   ]
  },
  {
   "cell_type": "code",
   "execution_count": null,
   "id": "a4a78126",
   "metadata": {},
   "outputs": [],
   "source": [
    "data_dir = \"data/mnist_data\"\n",
    "dataset1 = BinaryColoredMNIST(root=data_dir, alpha_odd=0.35, alpha_even=0.3)"
   ]
  },
  {
   "cell_type": "code",
   "execution_count": null,
   "id": "202b36ac",
   "metadata": {},
   "outputs": [],
   "source": [
    "data = dataset1[:144]\n",
    "\n",
    "plt.figure(figsize=(8, 8))\n",
    "\n",
    "for i, (img, a, label) in enumerate(data):\n",
    "    plt.subplot(12, 12, i + 1)\n",
    "    plt.imshow(img.permute(1, 2, 0).numpy())\n",
    "    plt.title(str(label.item()), fontsize=8)\n",
    "    plt.axis(\"off\")\n",
    "\n",
    "plt.tight_layout()\n",
    "plt.show()"
   ]
  },
  {
   "cell_type": "code",
   "execution_count": null,
   "id": "4d74a8ab",
   "metadata": {},
   "outputs": [],
   "source": [
    "# Setup for DP\n",
    "\n",
    "C = 2\n",
    "learning_rate = 1e-3\n",
    "gamma = 1 / C\n",
    "\n",
    "encoder = Encoder(10).to(device)\n",
    "classifier = Classifier(10).to(device)\n",
    "adv = Adversary(10).to(device)\n",
    "\n",
    "adversaries = ModuleList([adv for _ in range(C)])\n",
    "\n",
    "criterion_class = BCEWithLogitsLoss()\n",
    "\n",
    "optimizer_enc_class = Adam(list(encoder.parameters()) + list(classifier.parameters()), lr=learning_rate)\n",
    "\n",
    "optimizer_adv = Adam(adv.parameters(), lr=learning_rate / C)\n",
    "optimizers_adv = [optimizer_adv for _ in range(C)]\n",
    "\n",
    "train_loader  = torch.utils.data.DataLoader(\n",
    "    dataset1, batch_size=64, shuffle=True, num_workers=4\n",
    ")"
   ]
  },
  {
   "cell_type": "code",
   "execution_count": null,
   "id": "f835ec1b-44c8-4ff1-a790-23d318438d70",
   "metadata": {},
   "outputs": [],
   "source": [
    "from train import train_laftr\n",
    "train_laftr(encoder, classifier, adversaries, criterion_class, optimizer_enc_class, optimizers_adv, train_loader, gamma, device=device, verbose=True)"
   ]
  }
 ],
 "metadata": {
  "kernelspec": {
   "display_name": "Python (telecom-paris)",
   "language": "python",
   "name": "telecom-paris"
  },
  "language_info": {
   "codemirror_mode": {
    "name": "ipython",
    "version": 3
   },
   "file_extension": ".py",
   "mimetype": "text/x-python",
   "name": "python",
   "nbconvert_exporter": "python",
   "pygments_lexer": "ipython3",
   "version": "3.12.9"
  }
 },
 "nbformat": 4,
 "nbformat_minor": 5
}
