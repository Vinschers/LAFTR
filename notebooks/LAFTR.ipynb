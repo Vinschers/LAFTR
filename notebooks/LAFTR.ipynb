{
 "cells": [
  {
   "cell_type": "code",
   "execution_count": 1,
   "id": "eee1848c-8478-41a3-af21-0ea57eeaaa63",
   "metadata": {},
   "outputs": [],
   "source": [
    "# Enable further imports\n",
    "\n",
    "import sys, os\n",
    "project_root = os.path.abspath(os.path.join(os.getcwd(), \"..\"))\n",
    "if project_root not in sys.path:\n",
    "    sys.path.insert(0, project_root)"
   ]
  },
  {
   "cell_type": "code",
   "execution_count": 2,
   "id": "ca93ba3b-b676-4257-bfc0-b770a6a3b5df",
   "metadata": {},
   "outputs": [],
   "source": [
    "import matplotlib.pyplot as plt\n",
    "import torch\n",
    "\n",
    "from torch.nn import ModuleList, CrossEntropyLoss\n",
    "from torch.optim import Adam\n",
    "from torch.utils.data import DataLoader, random_split\n",
    "\n",
    "from sklearn.metrics import classification_report\n",
    "\n",
    "from tqdm.notebook import tqdm\n",
    "\n",
    "from data import BinaryColoredMNIST\n",
    "\n",
    "from models import MLPEncoder, ConvEncoder, Classifier, Adversary\n",
    "\n",
    "from train import Trainer"
   ]
  },
  {
   "cell_type": "code",
   "execution_count": 3,
   "id": "7365e255",
   "metadata": {},
   "outputs": [
    {
     "name": "stdout",
     "output_type": "stream",
     "text": [
      "mps\n"
     ]
    }
   ],
   "source": [
    "if torch.cuda.is_available():\n",
    "    device = torch.device(\"cuda\")\n",
    "elif torch.backends.mps.is_available():\n",
    "    device = torch.device(\"mps\")\n",
    "else:\n",
    "    device = torch.device(\"cpu\")\n",
    "\n",
    "print(device)"
   ]
  },
  {
   "cell_type": "markdown",
   "id": "2080379b",
   "metadata": {},
   "source": [
    "### Data Modification"
   ]
  },
  {
   "cell_type": "code",
   "execution_count": 4,
   "id": "a4a78126",
   "metadata": {},
   "outputs": [],
   "source": [
    "data_dir = os.path.join(project_root, \"data/mnist_data\")\n",
    "train_set = BinaryColoredMNIST(root=data_dir, p_even_red=0.8, p_odd_red=0.4, prob_a=0.5)"
   ]
  },
  {
   "cell_type": "code",
   "execution_count": 5,
   "id": "f9670e54-77ab-4cec-ba45-b6628d10e134",
   "metadata": {},
   "outputs": [],
   "source": [
    "train_set, val_set = random_split(train_set, [0.8, 0.2])"
   ]
  },
  {
   "cell_type": "code",
   "execution_count": 6,
   "id": "202b36ac",
   "metadata": {},
   "outputs": [],
   "source": [
    "# data = train_set[:144]\n",
    "\n",
    "# plt.figure(figsize=(8, 8))\n",
    "\n",
    "# for i, (img, a, label) in enumerate(data):\n",
    "#     plt.subplot(12, 12, i + 1)\n",
    "#     plt.imshow(img.permute(1, 2, 0).numpy())\n",
    "#     plt.title(str(label.item()), fontsize=8)\n",
    "#     plt.axis(\"off\")\n",
    "\n",
    "# plt.tight_layout()\n",
    "# plt.show()"
   ]
  },
  {
   "cell_type": "code",
   "execution_count": 7,
   "id": "671e5773-4782-4744-a38f-4dbd72118dba",
   "metadata": {},
   "outputs": [],
   "source": [
    "# Setup for DP\n",
    "C = 2\n",
    "K = 2\n",
    "latent_dim = 10\n",
    "\n",
    "batch_size = 256\n",
    "train_loader = DataLoader(train_set, batch_size=batch_size, shuffle=True)\n",
    "val_loader = DataLoader(val_set, batch_size=batch_size, shuffle=True)\n",
    "\n",
    "encoder = MLPEncoder(latent_dim)\n",
    "classifier = Classifier(latent_dim)\n",
    "adversary = Adversary(latent_dim)\n",
    "\n",
    "trainer = Trainer(train_loader, val_loader, encoder, classifier, adversary, C, K, device)"
   ]
  },
  {
   "cell_type": "code",
   "execution_count": 8,
   "id": "0726227d-963d-4c2d-9028-703301db1fed",
   "metadata": {},
   "outputs": [
    {
     "data": {
      "application/vnd.jupyter.widget-view+json": {
       "model_id": "b26edecf529240ab81d23bf9f80421e5",
       "version_major": 2,
       "version_minor": 0
      },
      "text/plain": [
       "  0%|          | 0/188 [00:00<?, ?batch/s]"
      ]
     },
     "metadata": {},
     "output_type": "display_data"
    },
    {
     "name": "stdout",
     "output_type": "stream",
     "text": [
      "Epoch 1 (encoder+classifier loss: 0.3103, adversary loss: -0.6778)\n"
     ]
    },
    {
     "data": {
      "application/vnd.jupyter.widget-view+json": {
       "model_id": "051ba31dd62241748f6fa3eafcca9b5b",
       "version_major": 2,
       "version_minor": 0
      },
      "text/plain": [
       "  0%|          | 0/188 [00:00<?, ?batch/s]"
      ]
     },
     "metadata": {},
     "output_type": "display_data"
    },
    {
     "name": "stdout",
     "output_type": "stream",
     "text": [
      "Epoch 2 (encoder+classifier loss: 0.1480, adversary loss: -0.7373)\n"
     ]
    },
    {
     "data": {
      "application/vnd.jupyter.widget-view+json": {
       "model_id": "de20114316e642eb81ad9a19e34d9370",
       "version_major": 2,
       "version_minor": 0
      },
      "text/plain": [
       "  0%|          | 0/188 [00:00<?, ?batch/s]"
      ]
     },
     "metadata": {},
     "output_type": "display_data"
    },
    {
     "name": "stdout",
     "output_type": "stream",
     "text": [
      "Epoch 3 (encoder+classifier loss: 0.1086, adversary loss: -0.4333)\n"
     ]
    },
    {
     "data": {
      "application/vnd.jupyter.widget-view+json": {
       "model_id": "b7f5e6ec735f4d118b1259a35c52002b",
       "version_major": 2,
       "version_minor": 0
      },
      "text/plain": [
       "  0%|          | 0/188 [00:00<?, ?batch/s]"
      ]
     },
     "metadata": {},
     "output_type": "display_data"
    },
    {
     "name": "stdout",
     "output_type": "stream",
     "text": [
      "Epoch 4 (encoder+classifier loss: 0.0982, adversary loss: -0.4413)\n"
     ]
    },
    {
     "data": {
      "application/vnd.jupyter.widget-view+json": {
       "model_id": "e7295f6168944a9bb4bcd2b5bacba9f9",
       "version_major": 2,
       "version_minor": 0
      },
      "text/plain": [
       "  0%|          | 0/188 [00:00<?, ?batch/s]"
      ]
     },
     "metadata": {},
     "output_type": "display_data"
    },
    {
     "name": "stdout",
     "output_type": "stream",
     "text": [
      "Epoch 5 (encoder+classifier loss: 0.0868, adversary loss: -0.4382)\n"
     ]
    },
    {
     "data": {
      "application/vnd.jupyter.widget-view+json": {
       "model_id": "f329833dbec848dc8b6f1694da2e27f7",
       "version_major": 2,
       "version_minor": 0
      },
      "text/plain": [
       "  0%|          | 0/188 [00:00<?, ?batch/s]"
      ]
     },
     "metadata": {},
     "output_type": "display_data"
    },
    {
     "name": "stdout",
     "output_type": "stream",
     "text": [
      "Epoch 6 (encoder+classifier loss: 0.0799, adversary loss: -0.4389)\n"
     ]
    },
    {
     "data": {
      "application/vnd.jupyter.widget-view+json": {
       "model_id": "608f84a3c0bd4aad82c4745d71d752b5",
       "version_major": 2,
       "version_minor": 0
      },
      "text/plain": [
       "  0%|          | 0/188 [00:00<?, ?batch/s]"
      ]
     },
     "metadata": {},
     "output_type": "display_data"
    },
    {
     "name": "stdout",
     "output_type": "stream",
     "text": [
      "Epoch 7 (encoder+classifier loss: 0.0728, adversary loss: -0.4418)\n"
     ]
    },
    {
     "data": {
      "application/vnd.jupyter.widget-view+json": {
       "model_id": "f21636fdce09499cabb8dfe9752a271f",
       "version_major": 2,
       "version_minor": 0
      },
      "text/plain": [
       "  0%|          | 0/188 [00:00<?, ?batch/s]"
      ]
     },
     "metadata": {},
     "output_type": "display_data"
    },
    {
     "name": "stdout",
     "output_type": "stream",
     "text": [
      "Epoch 8 (encoder+classifier loss: 0.0709, adversary loss: -0.4384)\n"
     ]
    },
    {
     "data": {
      "application/vnd.jupyter.widget-view+json": {
       "model_id": "f259f6beba1442928b60d974b5d1e58e",
       "version_major": 2,
       "version_minor": 0
      },
      "text/plain": [
       "  0%|          | 0/188 [00:00<?, ?batch/s]"
      ]
     },
     "metadata": {},
     "output_type": "display_data"
    },
    {
     "name": "stdout",
     "output_type": "stream",
     "text": [
      "Epoch 9 (encoder+classifier loss: 0.0609, adversary loss: -0.4394)\n"
     ]
    },
    {
     "data": {
      "application/vnd.jupyter.widget-view+json": {
       "model_id": "be9eb6b657554e3c9496055a894120b7",
       "version_major": 2,
       "version_minor": 0
      },
      "text/plain": [
       "  0%|          | 0/188 [00:00<?, ?batch/s]"
      ]
     },
     "metadata": {},
     "output_type": "display_data"
    },
    {
     "name": "stdout",
     "output_type": "stream",
     "text": [
      "Epoch 10 (encoder+classifier loss: 0.0556, adversary loss: -0.4408)\n"
     ]
    },
    {
     "data": {
      "application/vnd.jupyter.widget-view+json": {
       "model_id": "74e3cabbe7f64f4bad3d1f0d0994afa9",
       "version_major": 2,
       "version_minor": 0
      },
      "text/plain": [
       "  0%|          | 0/188 [00:00<?, ?batch/s]"
      ]
     },
     "metadata": {},
     "output_type": "display_data"
    },
    {
     "name": "stdout",
     "output_type": "stream",
     "text": [
      "Epoch 11 (encoder+classifier loss: 0.0530, adversary loss: -0.4385)\n"
     ]
    },
    {
     "data": {
      "application/vnd.jupyter.widget-view+json": {
       "model_id": "641e7aa9141a45e5b755a18e8d9ffe50",
       "version_major": 2,
       "version_minor": 0
      },
      "text/plain": [
       "  0%|          | 0/188 [00:00<?, ?batch/s]"
      ]
     },
     "metadata": {},
     "output_type": "display_data"
    },
    {
     "name": "stdout",
     "output_type": "stream",
     "text": [
      "Epoch 12 (encoder+classifier loss: 0.0523, adversary loss: -0.4409)\n"
     ]
    }
   ],
   "source": [
    "gamma = 0.001\n",
    "\n",
    "learning_rate = 1e-2\n",
    "\n",
    "criterion_class = CrossEntropyLoss()\n",
    "optimizer_enc_class = Adam(list(encoder.parameters()) + list(classifier.parameters()), lr=learning_rate)\n",
    "optimizer_adv = Adam(adversary.parameters(), lr=learning_rate)\n",
    "\n",
    "losses_enc, losses_adv = trainer.train(criterion_class, optimizer_enc_class, optimizer_adv, gamma, verbose=True)"
   ]
  },
  {
   "cell_type": "code",
   "execution_count": 9,
   "id": "1c2f7fcf-6ca8-4c85-a2ef-0af886e04ec0",
   "metadata": {},
   "outputs": [
    {
     "data": {
      "image/png": "[encoded data removed]",
      "text/plain": [
       "<Figure size 640x480 with 1 Axes>"
      ]
     },
     "metadata": {},
     "output_type": "display_data"
    }
   ],
   "source": [
    "plt.plot(losses_enc, label=\"Encoder+Classifier Loss\")\n",
    "plt.plot(losses_adv, label=\"Adversary Loss\")\n",
    "\n",
    "plt.legend()\n",
    "plt.show()"
   ]
  },
  {
   "cell_type": "code",
   "execution_count": 10,
   "id": "6c6272e8-29c6-4d2c-8e02-3dda7b088192",
   "metadata": {},
   "outputs": [],
   "source": [
    "test_set = BinaryColoredMNIST(root=data_dir, p_even_red=0.8, p_odd_red=0.7, prob_a=0.5, train=False)\n",
    "x, a_true, y_true = zip(*test_set)\n",
    "\n",
    "x = torch.stack(x, dim=0).to(device)\n",
    "a_true = torch.stack(a_true, dim=0).to(device)\n",
    "y_true = torch.stack(y_true, dim=0).to(device)\n",
    "\n",
    "z = encoder(x)\n",
    "\n",
    "a_pred = trainer.pred_adversary(z, y_true).argmax(dim=1)\n",
    "y_pred = classifier(z).argmax(dim=1)\n",
    "\n",
    "# test_loader = tqdm(\n",
    "#     DataLoader(test_set, batch_size=batch_size, shuffle=True),\n",
    "#     unit=\"batch\",\n",
    "#     leave=False\n",
    "# )\n",
    "\n",
    "# y_pred = []\n",
    "# y_true = []\n",
    "# a_pred = []\n",
    "# a_true = []\n",
    "\n",
    "# for (x, a, y) in test_loader:\n",
    "#     x = x.to(device)\n",
    "#     a = a.to(device)\n",
    "#     y = y.to(device)\n",
    "\n",
    "#     z = encoder(x)\n",
    "    \n",
    "#     y_preds = classifier(z).argmax(dim=1)\n",
    "#     a_preds = trainer.pred_adversary(z, y).argmax(dim=1)\n",
    "    \n",
    "#     a_pred.append(a_preds.cpu())\n",
    "#     y_pred.append(y_preds.cpu())\n",
    "    \n",
    "#     a_true.append(a.cpu())\n",
    "#     y_true.append(y.cpu())\n",
    "\n",
    "# a_pred = torch.cat(a_pred, dim=0).numpy()\n",
    "# a_true = torch.cat(a_true, dim=0).numpy()\n",
    "\n",
    "# y_pred = torch.cat(y_pred, dim=0).numpy()\n",
    "# y_true = torch.cat(y_true, dim=0).numpy()"
   ]
  },
  {
   "cell_type": "code",
   "execution_count": 11,
   "id": "803a7cd0-a76d-4a1f-b261-7f130e43ed66",
   "metadata": {},
   "outputs": [
    {
     "name": "stdout",
     "output_type": "stream",
     "text": [
      "Classifier:\n",
      "              precision    recall  f1-score   support\n",
      "\n",
      "           0       0.97      0.98      0.97      4926\n",
      "           1       0.98      0.97      0.97      5074\n",
      "\n",
      "    accuracy                           0.97     10000\n",
      "   macro avg       0.97      0.97      0.97     10000\n",
      "weighted avg       0.97      0.97      0.97     10000\n",
      "\n",
      "\n",
      "\n",
      "Adversary:\n",
      "              precision    recall  f1-score   support\n",
      "\n",
      "           0       0.81      0.53      0.64      7499\n",
      "           1       0.31      0.63      0.41      2501\n",
      "\n",
      "    accuracy                           0.56     10000\n",
      "   macro avg       0.56      0.58      0.53     10000\n",
      "weighted avg       0.69      0.56      0.59     10000\n",
      "\n"
     ]
    }
   ],
   "source": [
    "a_pred = a_pred.cpu().numpy()\n",
    "a_true = a_true.cpu().numpy()\n",
    "y_pred = y_pred.cpu().numpy()\n",
    "y_true = y_true.cpu().numpy()\n",
    "\n",
    "print(\"Classifier:\")\n",
    "print(classification_report(y_true, y_pred, zero_division=0))\n",
    "\n",
    "print()\n",
    "print()\n",
    "\n",
    "print(\"Adversary:\")\n",
    "print(classification_report(a_true, a_pred, zero_division=0))"
   ]
  }
 ],
 "metadata": {
  "kernelspec": {
   "display_name": "Python (telecom-paris)",
   "language": "python",
   "name": "telecom-paris"
  },
  "language_info": {
   "codemirror_mode": {
    "name": "ipython",
    "version": 3
   },
   "file_extension": ".py",
   "mimetype": "text/x-python",
   "name": "python",
   "nbconvert_exporter": "python",
   "pygments_lexer": "ipython3",
   "version": "3.12.9"
  }
 },
 "nbformat": 4,
 "nbformat_minor": 5
}
