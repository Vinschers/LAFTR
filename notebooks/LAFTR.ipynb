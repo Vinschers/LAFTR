{
 "cells": [
  {
   "cell_type": "code",
   "execution_count": 1,
   "id": "eee1848c-8478-41a3-af21-0ea57eeaaa63",
   "metadata": {},
   "outputs": [],
   "source": [
    "# Enable further imports\n",
    "\n",
    "import sys, os\n",
    "project_root = os.path.abspath(os.path.join(os.getcwd(), \"..\"))\n",
    "if project_root not in sys.path:\n",
    "    sys.path.insert(0, project_root)"
   ]
  },
  {
   "cell_type": "code",
   "execution_count": 2,
   "id": "ca93ba3b-b676-4257-bfc0-b770a6a3b5df",
   "metadata": {},
   "outputs": [],
   "source": [
    "import matplotlib.pyplot as plt\n",
    "import torch\n",
    "\n",
    "from torch.nn import ModuleList, CrossEntropyLoss\n",
    "from torch.optim import Adam\n",
    "from torch.utils.data import DataLoader, random_split\n",
    "\n",
    "from tqdm.notebook import tqdm\n",
    "\n",
    "from data import BinaryColoredMNIST\n",
    "\n",
    "from models import MLPEncoder, ConvEncoder, Classifier, Adversary\n",
    "\n",
    "# from train import train_laftr\n",
    "from train import Trainer"
   ]
  },
  {
   "cell_type": "code",
   "execution_count": 3,
   "id": "7365e255",
   "metadata": {},
   "outputs": [
    {
     "name": "stdout",
     "output_type": "stream",
     "text": [
      "mps\n"
     ]
    }
   ],
   "source": [
    "if torch.cuda.is_available():\n",
    "    device = torch.device(\"cuda\")\n",
    "elif torch.backends.mps.is_available():\n",
    "    device = torch.device(\"mps\")\n",
    "else:\n",
    "    device = torch.device(\"cpu\")\n",
    "\n",
    "print(device)"
   ]
  },
  {
   "cell_type": "markdown",
   "id": "2080379b",
   "metadata": {},
   "source": [
    "### Data Modification"
   ]
  },
  {
   "cell_type": "code",
   "execution_count": 4,
   "id": "a4a78126",
   "metadata": {},
   "outputs": [],
   "source": [
    "data_dir = os.path.join(project_root, \"data/mnist_data\")\n",
    "train_set = BinaryColoredMNIST(root=data_dir, p_even_red=0.8, p_odd_red=0.4, prob_a=0.5)"
   ]
  },
  {
   "cell_type": "code",
   "execution_count": 5,
   "id": "f9670e54-77ab-4cec-ba45-b6628d10e134",
   "metadata": {},
   "outputs": [],
   "source": [
    "train_set, val_set = random_split(train_set, [0.8, 0.2])"
   ]
  },
  {
   "cell_type": "code",
   "execution_count": 6,
   "id": "202b36ac",
   "metadata": {},
   "outputs": [],
   "source": [
    "# data = train_set[:144]\n",
    "\n",
    "# plt.figure(figsize=(8, 8))\n",
    "\n",
    "# for i, (img, a, label) in enumerate(data):\n",
    "#     plt.subplot(12, 12, i + 1)\n",
    "#     plt.imshow(img.permute(1, 2, 0).numpy())\n",
    "#     plt.title(str(label.item()), fontsize=8)\n",
    "#     plt.axis(\"off\")\n",
    "\n",
    "# plt.tight_layout()\n",
    "# plt.show()"
   ]
  },
  {
   "cell_type": "code",
   "execution_count": 7,
   "id": "671e5773-4782-4744-a38f-4dbd72118dba",
   "metadata": {},
   "outputs": [],
   "source": [
    "# Setup for DP\n",
    "C = 2\n",
    "K = 2\n",
    "latent_dim = 10\n",
    "\n",
    "batch_size = 256\n",
    "train_loader = DataLoader(train_set, batch_size=batch_size, shuffle=True)\n",
    "val_loader = DataLoader(val_set, batch_size=batch_size, shuffle=True)\n",
    "\n",
    "encoder = MLPEncoder(latent_dim)\n",
    "classifier = Classifier(latent_dim)\n",
    "adversary = Adversary(latent_dim, 4)\n",
    "\n",
    "trainer = Trainer(train_loader, val_loader, encoder, classifier, adversary, C, K, device)"
   ]
  },
  {
   "cell_type": "code",
   "execution_count": 12,
   "id": "0726227d-963d-4c2d-9028-703301db1fed",
   "metadata": {},
   "outputs": [
    {
     "data": {
      "application/vnd.jupyter.widget-view+json": {
       "model_id": "22ef0923ba024a6b8f42a98a553d252f",
       "version_major": 2,
       "version_minor": 0
      },
      "text/plain": [
       "  0%|          | 0/188 [00:00<?, ?batch/s]"
      ]
     },
     "metadata": {},
     "output_type": "display_data"
    },
    {
     "name": "stdout",
     "output_type": "stream",
     "text": [
      "Epoch 1 (encoder+classifier loss: 0.0667, adversary loss: -0.7440)\n"
     ]
    },
    {
     "data": {
      "application/vnd.jupyter.widget-view+json": {
       "model_id": "c134ea6c997e440abba7e2d9307ddaf9",
       "version_major": 2,
       "version_minor": 0
      },
      "text/plain": [
       "  0%|          | 0/188 [00:00<?, ?batch/s]"
      ]
     },
     "metadata": {},
     "output_type": "display_data"
    },
    {
     "name": "stdout",
     "output_type": "stream",
     "text": [
      "Epoch 2 (encoder+classifier loss: 0.0639, adversary loss: -0.7222)\n"
     ]
    },
    {
     "data": {
      "application/vnd.jupyter.widget-view+json": {
       "model_id": "3ead44fc1c72428cb10f67ec98c63700",
       "version_major": 2,
       "version_minor": 0
      },
      "text/plain": [
       "  0%|          | 0/188 [00:00<?, ?batch/s]"
      ]
     },
     "metadata": {},
     "output_type": "display_data"
    },
    {
     "name": "stdout",
     "output_type": "stream",
     "text": [
      "Epoch 3 (encoder+classifier loss: 0.0623, adversary loss: -0.6205)\n"
     ]
    },
    {
     "data": {
      "application/vnd.jupyter.widget-view+json": {
       "model_id": "94ff8976e6e7457b8cd4dba28cb493e0",
       "version_major": 2,
       "version_minor": 0
      },
      "text/plain": [
       "  0%|          | 0/188 [00:00<?, ?batch/s]"
      ]
     },
     "metadata": {},
     "output_type": "display_data"
    },
    {
     "name": "stdout",
     "output_type": "stream",
     "text": [
      "Epoch 4 (encoder+classifier loss: 0.0581, adversary loss: -0.4480)\n"
     ]
    },
    {
     "data": {
      "application/vnd.jupyter.widget-view+json": {
       "model_id": "a664f5282ce842e58a370444ed33a7a3",
       "version_major": 2,
       "version_minor": 0
      },
      "text/plain": [
       "  0%|          | 0/188 [00:00<?, ?batch/s]"
      ]
     },
     "metadata": {},
     "output_type": "display_data"
    },
    {
     "name": "stdout",
     "output_type": "stream",
     "text": [
      "Epoch 5 (encoder+classifier loss: 0.0565, adversary loss: -0.4768)\n"
     ]
    },
    {
     "data": {
      "application/vnd.jupyter.widget-view+json": {
       "model_id": "074928987d384b47adf3eded37eb0373",
       "version_major": 2,
       "version_minor": 0
      },
      "text/plain": [
       "  0%|          | 0/188 [00:00<?, ?batch/s]"
      ]
     },
     "metadata": {},
     "output_type": "display_data"
    },
    {
     "name": "stdout",
     "output_type": "stream",
     "text": [
      "Epoch 6 (encoder+classifier loss: 0.0517, adversary loss: -0.4527)\n"
     ]
    },
    {
     "data": {
      "application/vnd.jupyter.widget-view+json": {
       "model_id": "f3c089c5e2214279ba70c50d21ffe1d4",
       "version_major": 2,
       "version_minor": 0
      },
      "text/plain": [
       "  0%|          | 0/188 [00:00<?, ?batch/s]"
      ]
     },
     "metadata": {},
     "output_type": "display_data"
    },
    {
     "name": "stdout",
     "output_type": "stream",
     "text": [
      "Epoch 7 (encoder+classifier loss: 0.0478, adversary loss: -0.6807)\n"
     ]
    },
    {
     "data": {
      "application/vnd.jupyter.widget-view+json": {
       "model_id": "d45a3517c7924cc1991fbc6675b43c64",
       "version_major": 2,
       "version_minor": 0
      },
      "text/plain": [
       "  0%|          | 0/188 [00:00<?, ?batch/s]"
      ]
     },
     "metadata": {},
     "output_type": "display_data"
    },
    {
     "name": "stdout",
     "output_type": "stream",
     "text": [
      "Epoch 8 (encoder+classifier loss: 0.0527, adversary loss: -0.6694)\n"
     ]
    },
    {
     "data": {
      "application/vnd.jupyter.widget-view+json": {
       "model_id": "8179fba075a642079bde427cfdbd6202",
       "version_major": 2,
       "version_minor": 0
      },
      "text/plain": [
       "  0%|          | 0/188 [00:00<?, ?batch/s]"
      ]
     },
     "metadata": {},
     "output_type": "display_data"
    },
    {
     "name": "stdout",
     "output_type": "stream",
     "text": [
      "Epoch 9 (encoder+classifier loss: 0.0531, adversary loss: -0.7029)\n"
     ]
    },
    {
     "data": {
      "application/vnd.jupyter.widget-view+json": {
       "model_id": "b2d00d274c73418ea99e0084492fc8fd",
       "version_major": 2,
       "version_minor": 0
      },
      "text/plain": [
       "  0%|          | 0/188 [00:00<?, ?batch/s]"
      ]
     },
     "metadata": {},
     "output_type": "display_data"
    },
    {
     "name": "stdout",
     "output_type": "stream",
     "text": [
      "Epoch 10 (encoder+classifier loss: 0.0495, adversary loss: -0.6551)\n"
     ]
    },
    {
     "data": {
      "application/vnd.jupyter.widget-view+json": {
       "model_id": "5fd65268446044a497d0f6db6b3a63df",
       "version_major": 2,
       "version_minor": 0
      },
      "text/plain": [
       "  0%|          | 0/188 [00:00<?, ?batch/s]"
      ]
     },
     "metadata": {},
     "output_type": "display_data"
    },
    {
     "name": "stdout",
     "output_type": "stream",
     "text": [
      "Epoch 11 (encoder+classifier loss: 0.0437, adversary loss: -0.7190)\n"
     ]
    },
    {
     "data": {
      "application/vnd.jupyter.widget-view+json": {
       "model_id": "bcce00baf58543d48942fa559f3c3d4c",
       "version_major": 2,
       "version_minor": 0
      },
      "text/plain": [
       "  0%|          | 0/188 [00:00<?, ?batch/s]"
      ]
     },
     "metadata": {},
     "output_type": "display_data"
    },
    {
     "name": "stdout",
     "output_type": "stream",
     "text": [
      "Epoch 12 (encoder+classifier loss: 0.0488, adversary loss: -0.7588)\n"
     ]
    }
   ],
   "source": [
    "gamma = 0\n",
    "\n",
    "learning_rate = 1e-2\n",
    "\n",
    "criterion_class = CrossEntropyLoss()\n",
    "optimizer_enc_class = Adam(list(encoder.parameters()) + list(classifier.parameters()), lr=learning_rate)\n",
    "optimizer_adv = Adam(adversary.parameters(), lr=learning_rate)\n",
    "\n",
    "losses_enc, losses_adv = trainer.train(criterion_class, optimizer_enc_class, optimizer_adv, gamma, verbose=True)"
   ]
  },
  {
   "cell_type": "code",
   "execution_count": 13,
   "id": "1c2f7fcf-6ca8-4c85-a2ef-0af886e04ec0",
   "metadata": {},
   "outputs": [
    {
     "data": {
      "image/png": "[encoded data removed]",
      "text/plain": [
       "<Figure size 640x480 with 1 Axes>"
      ]
     },
     "metadata": {},
     "output_type": "display_data"
    }
   ],
   "source": [
    "plt.plot(losses_enc, label=\"Encoder+Classifier Loss\")\n",
    "plt.plot(losses_adv, label=\"Adversary Loss\")\n",
    "\n",
    "plt.legend()\n",
    "plt.show()"
   ]
  },
  {
   "cell_type": "code",
   "execution_count": 14,
   "id": "6c6272e8-29c6-4d2c-8e02-3dda7b088192",
   "metadata": {},
   "outputs": [
    {
     "data": {
      "application/vnd.jupyter.widget-view+json": {
       "model_id": "de611faffbd54d77a3c9888b965255a4",
       "version_major": 2,
       "version_minor": 0
      },
      "text/plain": [
       "  0%|          | 0/40 [00:00<?, ?batch/s]"
      ]
     },
     "metadata": {},
     "output_type": "display_data"
    }
   ],
   "source": [
    "test_set = BinaryColoredMNIST(root=data_dir, p_even_red=0.8, p_odd_red=0.7, prob_a=0.5, train=False)\n",
    "test_loader = tqdm(\n",
    "    DataLoader(test_set, batch_size=batch_size, shuffle=True),\n",
    "    unit=\"batch\",\n",
    "    leave=False\n",
    ")\n",
    "\n",
    "y_pred = []\n",
    "y_true = []\n",
    "a_pred = []\n",
    "a_true = []\n",
    "\n",
    "for (x, a, y) in test_loader:\n",
    "    x = x.to(device)\n",
    "    a = a.to(device)\n",
    "    y = y.to(device)\n",
    "\n",
    "    z = encoder(x)\n",
    "    \n",
    "    y_preds = classifier(z).argmax(dim=1)\n",
    "    a_preds = trainer.pred_adversary(z, y).argmax(dim=1)\n",
    "    \n",
    "    a_pred.append(a_preds.cpu())\n",
    "    y_pred.append(y_preds.cpu())\n",
    "    \n",
    "    a_true.append(a.cpu())\n",
    "    y_true.append(y.cpu())\n",
    "\n",
    "a_pred = torch.cat(a_pred, dim=0).numpy()\n",
    "a_true = torch.cat(a_true, dim=0).numpy()\n",
    "\n",
    "y_pred = torch.cat(y_pred, dim=0).numpy()\n",
    "y_true = torch.cat(y_true, dim=0).numpy()"
   ]
  },
  {
   "cell_type": "code",
   "execution_count": 15,
   "id": "803a7cd0-a76d-4a1f-b261-7f130e43ed66",
   "metadata": {},
   "outputs": [
    {
     "name": "stdout",
     "output_type": "stream",
     "text": [
      "Classifier:\n",
      "              precision    recall  f1-score   support\n",
      "\n",
      "           0       0.94      0.99      0.97      4926\n",
      "           1       0.99      0.94      0.97      5074\n",
      "\n",
      "    accuracy                           0.97     10000\n",
      "   macro avg       0.97      0.97      0.97     10000\n",
      "weighted avg       0.97      0.97      0.97     10000\n",
      "\n",
      "\n",
      "\n",
      "Adversary:\n",
      "              precision    recall  f1-score   support\n",
      "\n",
      "           0       0.89      0.99      0.94      7499\n",
      "           1       0.97      0.62      0.76      2501\n",
      "\n",
      "    accuracy                           0.90     10000\n",
      "   macro avg       0.93      0.81      0.85     10000\n",
      "weighted avg       0.91      0.90      0.89     10000\n",
      "\n"
     ]
    }
   ],
   "source": [
    "from sklearn.metrics import classification_report\n",
    "\n",
    "print(\"Classifier:\")\n",
    "print(classification_report(y_true, y_pred))\n",
    "\n",
    "print()\n",
    "print()\n",
    "\n",
    "print(\"Adversary:\")\n",
    "print(classification_report(a_true, a_pred))"
   ]
  }
 ],
 "metadata": {
  "kernelspec": {
   "display_name": "Python (telecom-paris)",
   "language": "python",
   "name": "telecom-paris"
  },
  "language_info": {
   "codemirror_mode": {
    "name": "ipython",
    "version": 3
   },
   "file_extension": ".py",
   "mimetype": "text/x-python",
   "name": "python",
   "nbconvert_exporter": "python",
   "pygments_lexer": "ipython3",
   "version": "3.12.9"
  }
 },
 "nbformat": 4,
 "nbformat_minor": 5
}
