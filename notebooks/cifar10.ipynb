{
 "cells": [
  {
   "cell_type": "code",
   "execution_count": 1,
   "id": "f1db4917-c93a-40cf-ac6c-915040ddf86c",
   "metadata": {},
   "outputs": [],
   "source": [
    "# Enable further imports\n",
    "\n",
    "import sys, os\n",
    "project_root = os.path.abspath(os.path.join(os.getcwd(), \"..\"))\n",
    "if project_root not in sys.path:\n",
    "    sys.path.insert(0, project_root)"
   ]
  },
  {
   "cell_type": "code",
   "execution_count": 2,
   "id": "28622b78-e7e9-4287-95f4-768aee89d695",
   "metadata": {},
   "outputs": [],
   "source": [
    "import matplotlib.pyplot as plt\n",
    "import torch\n",
    "\n",
    "from torch.nn import ModuleList, CrossEntropyLoss\n",
    "from torch.optim import Adam\n",
    "from torch.utils.data import DataLoader, random_split\n",
    "\n",
    "from sklearn.metrics import classification_report\n",
    "\n",
    "from tqdm.notebook import tqdm\n",
    "\n",
    "from data import BiasedCifar10\n",
    "\n",
    "from models import MLPEncoder, ConvEncoder, Classifier, Adversary\n",
    "\n",
    "from train import Trainer"
   ]
  },
  {
   "cell_type": "code",
   "execution_count": 3,
   "id": "9e7efb3e-2bab-4c7f-b155-29a1ec25fc46",
   "metadata": {},
   "outputs": [
    {
     "name": "stdout",
     "output_type": "stream",
     "text": [
      "mps\n"
     ]
    }
   ],
   "source": [
    "if torch.cuda.is_available():\n",
    "    device = torch.device(\"cuda\")\n",
    "elif torch.backends.mps.is_available():\n",
    "    device = torch.device(\"mps\")\n",
    "else:\n",
    "    device = torch.device(\"cpu\")\n",
    "\n",
    "print(device)"
   ]
  },
  {
   "cell_type": "code",
   "execution_count": 4,
   "id": "3d975675-0a5d-4064-9de2-d1d9e51ef05c",
   "metadata": {},
   "outputs": [],
   "source": [
    "p_y_a = [\n",
    "    [0.9 if i == j else 0.1 / 9 for i in range(10)]\n",
    "    for j in range(10)\n",
    "]\n",
    "p_a = [1/10] * 10\n",
    "\n",
    "data_dir = os.path.join(project_root, \"data/cifar_data\")\n",
    "biased_cifar = BiasedCifar10(data_dir, p_y_a, p_a, train=True, download=True, seed=42)"
   ]
  },
  {
   "cell_type": "code",
   "execution_count": 5,
   "id": "7ece0956-0cd7-4b1c-9c68-44320c4b7830",
   "metadata": {},
   "outputs": [
    {
     "name": "stdout",
     "output_type": "stream",
     "text": [
      "Image shape: torch.Size([3, 32, 32])\n",
      "Spurious attribute: tensor(6)\n",
      "True label: tensor(6)\n"
     ]
    },
    {
     "data": {
      "image/png": "[encoded data removed]",
      "text/plain": [
       "<Figure size 640x480 with 1 Axes>"
      ]
     },
     "metadata": {},
     "output_type": "display_data"
    }
   ],
   "source": [
    "img, attr, label = biased_cifar[0]\n",
    "print(\"Image shape:\", img.shape)\n",
    "print(\"Spurious attribute:\", attr)\n",
    "print(\"True label:\", label)\n",
    "\n",
    "plt.imshow(img.permute(1, 2, 0).cpu().numpy())\n",
    "plt.show()"
   ]
  }
 ],
 "metadata": {
  "kernelspec": {
   "display_name": "Python 3 (ipykernel)",
   "language": "python",
   "name": "python3"
  },
  "language_info": {
   "codemirror_mode": {
    "name": "ipython",
    "version": 3
   },
   "file_extension": ".py",
   "mimetype": "text/x-python",
   "name": "python",
   "nbconvert_exporter": "python",
   "pygments_lexer": "ipython3",
   "version": "3.12.9"
  }
 },
 "nbformat": 4,
 "nbformat_minor": 5
}
